{
 "cells": [
  {
   "cell_type": "code",
   "execution_count": 1,
   "id": "b896ed61-4487-4f55-b350-49e7d70dc4f6",
   "metadata": {
    "autorun": true,
    "tags": []
   },
   "outputs": [],
   "source": [
    "String printBinary(String binary, int blockSize, String separator) {\n",
    "        List<String> result = new ArrayList<>();\n",
    "        int index = 0;\n",
    "        while (index < binary.length()) {\n",
    "            result.add(binary.substring(index, Math.min(index + blockSize, binary.length())));\n",
    "            index += blockSize;\n",
    "        }\n",
    "\n",
    "        return result.stream().collect(java.util.stream.Collectors.joining(separator));\n",
    "    }\n",
    "void intToBin(int input){\n",
    "    String result = Integer.toBinaryString(input);\n",
    "    String resultWithPadding = String.format(\"%32s\", result).replaceAll(\" \", \"0\");\n",
    "    System.out.println(printBinary(resultWithPadding, 4, \" \")); \n",
    "}\n",
    "\n",
    "//La funció ```intToBin``` la podeu utilitzar, si voleu, com a ajuda per a respondre les preguntes 1 i 2."
   ]
  },
  {
   "cell_type": "markdown",
   "id": "54b801d8-b4b0-4b20-a67c-5b701d1e6f56",
   "metadata": {},
   "source": [
    "# Nivell 2"
   ]
  },
  {
   "cell_type": "markdown",
   "id": "6acb5fd8-9cfe-483a-8d6c-8e2b3f3b2692",
   "metadata": {},
   "source": [
    "## Pregunta 1"
   ]
  },
  {
   "cell_type": "markdown",
   "id": "42998526-bce2-4306-9a33-e618e8c5d05a",
   "metadata": {},
   "source": [
    "**Operadors shift**\n",
    "\n",
    "Executeu el seguent codi en una cel·la del notebook:\n",
    "\n",
    "```java\n",
    "int n = 10;\n",
    "println(n<<1 == n * 2);\n",
    "println(n<<2 == n * 4);\n",
    "println(n<<3 == n * 8);\n",
    "```\n",
    "\n",
    "Explica **per què** imprimeix _true_ en cada cas? (**Raona la resposta**)"
   ]
  },
  {
   "cell_type": "code",
   "execution_count": 5,
   "id": "1e241e28-fb81-4885-b03b-d5c1d4a1753a",
   "metadata": {},
   "outputs": [
    {
     "name": "stdout",
     "output_type": "stream",
     "text": [
      "true\n",
      "true\n",
      "true\n"
     ]
    }
   ],
   "source": [
    "//Escriu i executa el codi aquí\n",
    "\n",
    "int n = 10;\n",
    "println(n<<1 == n * 2);\n",
    "println(n<<2 == n * 4);\n",
    "println(n<<3 == n * 8);"
   ]
  },
  {
   "cell_type": "markdown",
   "id": "99cdca44-50f9-464b-a8e7-9a9ea4dcee6a",
   "metadata": {},
   "source": [
    "Resposta:\n",
    "\n",
    "_Escriu la teva resposta aquí_\n",
    "En el primer cas ens esta movent les xifres en binari una posicio, per tant és true perque al moure el 10 en binari una posició cap a l'esquerra aquest es torna equivalent a 20 en binari.   \n",
    "En el segon cas fa el mateix, però dues posicions a l'esquerra.   \n",
    "En el tercer cas fa el mateix però tres posicions cap a l'esquerra en comptes de dues.   "
   ]
  },
  {
   "cell_type": "markdown",
   "id": "beac9e74-d4a2-481a-b351-db070966a91f",
   "metadata": {},
   "source": [
    "## Pregunta 2"
   ]
  },
  {
   "cell_type": "markdown",
   "id": "ab86a9cc-78b1-4d6b-af08-9d45d1d048be",
   "metadata": {},
   "source": [
    "Executa el següent codi, cada línia en una cel·la:\n",
    "\n",
    "```java\n",
    "int n = 10;\n",
    "println(n & ~n);\n",
    "println(n | ~n);\n",
    "```"
   ]
  },
  {
   "cell_type": "code",
   "execution_count": 9,
   "id": "26029d33-e1ef-46be-ae8a-35c4998e9520",
   "metadata": {},
   "outputs": [
    {
     "name": "stdout",
     "output_type": "stream",
     "text": [
      "0\n",
      "-1\n"
     ]
    }
   ],
   "source": [
    "//Escriu i executa el codi aquí\n",
    "\n",
    "int n = 10;\n",
    "println(n & ~n);\n",
    "println(n | ~n);"
   ]
  },
  {
   "cell_type": "markdown",
   "id": "80a32860-4a5b-45f8-96cf-945f298baaa6",
   "metadata": {},
   "source": [
    "Has de contestar dues preguntes:\n",
    "\n",
    "1 - Per què s'obté 0 i -1?\n",
    "\n",
    "Resposta:\n",
    "\n",
    "_Escriu la teva resposta aquí_\n",
    "Els operadors & i | el primer que fan és passar la variable a binari i després compara numero a numero. L'operador & posa 1 en bits que coincideixin 1 i 1, i a la resta 0, d'aquesta manera obtenim el nostre resultat, ja que al comparar un numero amb el seu negatiu, mai coincidiran dos 1.  \n",
    "  \n",
    "En canvi en el segon cas, com que l'operador | retorna 1 si hi ha un 1 en cualsevol dels dos binaris que esta comparant, el binari resultant de la comparació sera tot 1. Per tant obtenim -1 (ja que al ser el MSB del binari 1, el nombre serà negatiu. \n",
    "\n",
    "2 - Per què, posis el valor que li posis a la variable _n_, sempre dóna el mateix (0 i -1)?\n",
    "\n",
    "Resposta:\n",
    "\n",
    "_Escriu la teva resposta aquí_\n",
    "\n",
    "El resultat és sempre el mateix, perque sempre estàs comparant un nombre amb el seu negatiu, per tant en el primer cas mai coincidiran 1 en els dos binaris, i en el segon sempre hi haurà al menys un 1, per tanrt el resultat sempre serà 0 i -1. "
   ]
  },
  {
   "cell_type": "markdown",
   "id": "b61701fd-7032-4adb-af2a-508e0b667371",
   "metadata": {},
   "source": [
    "## Exercici 1"
   ]
  },
  {
   "cell_type": "markdown",
   "id": "747e1fa9-08e4-4881-a3be-5feb4fdb1057",
   "metadata": {},
   "source": [
    "Escriu una funció, la signatura de la qual serà\n",
    "\n",
    "```java\n",
    "int[] removeNegatives2(int[] array);\n",
    "```\n",
    "\n",
    "que retorni un array que només contingui els elements no negatius de l'array d'entrada (és a dir, els positius i els zeros).\n",
    "\n",
    "Exemples:\n",
    "```\n",
    "[2,-1,-5,4,6] -> retorna [2,4,6]\n",
    "[0,-3,3] -> retorna [0,3] \n",
    "[] -> retorna [] (l'array buit -sense elements- retorna un array buit)\n",
    "```\n"
   ]
  },
  {
   "cell_type": "code",
   "execution_count": 41,
   "id": "5b3ac07b-ca13-404f-b00d-637f62457a4d",
   "metadata": {},
   "outputs": [],
   "source": [
    "//Escriu i prova el teu codi aquí\n",
    "int longitud2(int[] array){\n",
    "    int llarg= 0;\n",
    "    for (int n=0; n<array.length; n++){\n",
    "        if (array[n]>=0){\n",
    "        llarg++;\n",
    "        } \n",
    "    }return llarg;\n",
    "}\n",
    "\n",
    "int[] removeNegatives2(int[] array){\n",
    "    //El teu codi aquí\n",
    "    int [] resultat= new int[longitud2(array)];\n",
    "    int index =0;\n",
    "    for (int i=0; i<array.length; i++){\n",
    "        if(array[i]>=0){\n",
    "            resultat[index]=array[i];\n",
    "            index++;\n",
    "        }\n",
    "    }return resultat;\n",
    "}\n",
    "\n",
    "\n",
    "\n",
    "//Crea les teves proves aquí\n",
    "int[] probando1 ={2,-1,-5,4,6};\n",
    "int[] probando2={0,-3,3};\n",
    "int[] probando3={};\n",
    "\n",
    "println(longitud2(probando1));\n",
    "println(Arrays.toString(removeNegatives2(probando1)));\n",
    "println(longitud2(probando2));\n",
    "println(Arrays.toString(removeNegatives2(probando2)));\n",
    "println(longitud2(probando3));\n",
    "println(Arrays.toString(removeNegatives2(probando3)));\n"
   ]
  },
  {
   "cell_type": "markdown",
   "id": "89d4609e-c040-4029-bd48-083b931f9f4d",
   "metadata": {},
   "source": [
    "## Exercici 2 (arrays bidimensionals)"
   ]
  },
  {
   "cell_type": "markdown",
   "id": "38fb449c-f92c-423e-9572-098dce117abd",
   "metadata": {},
   "source": [
    "En aquest exercici heu d'implementar una funció molt semblant a la del nivell 1 (arrays bidimensionals), però ara li passarem com a segon paràmetre un número enter ``k`` que representa la columna que volem obtenir de la matriu.\n",
    "\n",
    "Per tant, si la matriu que es passa com a primer paràmetre és de mida ``n x m`` (n files i m columnes), el valor de ``k`` estarà entre 0 i m-1. **Si el valor de k no està entre 0 i k-1, la funció ha de retornar null i imprimir per pantalla un missatge d'error**.\n",
    "\n",
    "El resultat d'aquesta funció quan k = 0 ha de ser idèntic al resultat retornat per la funció del nivell 1."
   ]
  },
  {
   "cell_type": "markdown",
   "id": "f76f6527-a444-4041-b02d-d08b901d4927",
   "metadata": {},
   "source": [
    "**Exemple**:\n",
    "\n",
    "```\n",
    "int[][] matrix = {{0,1},{2,3},{4,5}};\n",
    "\n",
    "getColumn(matrix,0) -> retorna [0,1]\n",
    "getColumn(matrix,1) -> retorna [2,3]\n",
    "getColumn(matrix,2) -> retorna [4,5]\n",
    "getColumn(matrix,-2) -> retorna null i imprimeix error\n",
    "getColumn(matrix,5) -> retorna null i imprimeix error\n",
    "```"
   ]
  },
  {
   "cell_type": "code",
   "execution_count": 3,
   "id": "63e6755c-0cbb-45fa-b7a9-dd8e15938602",
   "metadata": {},
   "outputs": [],
   "source": [
    "//Implementeu la funció aquí:\n",
    "\n",
    "int[] getColumn(int[][] matrix, int k){\n",
    "    int m= matrix.length;\n",
    "    int[]arraynou= new int[m];\n",
    "    if (k >= 0 && k <= m-1){\n",
    "        for (int y=0; y<m; y++){\n",
    "             if (k == y){\n",
    "              arraynou = matrix[y];\n",
    "     }\n",
    "        \n",
    "    }return arraynou;\n",
    "    }\n",
    "    else {\n",
    "        println(\"El número introdït supera el número de columnes disponibles\");\n",
    "        return null;\n",
    "    }\n",
    "}\n",
    "\n"
   ]
  },
  {
   "cell_type": "code",
   "execution_count": null,
   "id": "ab8cb133-8b9b-41c3-9866-1eca5708cb2a",
   "metadata": {},
   "outputs": [],
   "source": [
    "//Feu les vostres proves a continuació"
   ]
  },
  {
   "cell_type": "code",
   "execution_count": 8,
   "id": "940dc373-a4de-4dfd-b901-1e3b413e347e",
   "metadata": {},
   "outputs": [
    {
     "name": "stdout",
     "output_type": "stream",
     "text": [
      "[4, 5]\n"
     ]
    }
   ],
   "source": [
    "int[][] prova = {{0,1},{2,3},{4,5}};\n",
    "\n",
    "int k = 2;\n",
    "\n",
    "\n",
    "println(Arrays.toString(getColumn(prova,k)));"
   ]
  },
  {
   "cell_type": "code",
   "execution_count": 4,
   "id": "67300166-9ac5-4cbe-a1ea-08a1d960f6f1",
   "metadata": {},
   "outputs": [
    {
     "name": "stdout",
     "output_type": "stream",
     "text": [
      "[0, 1]\n",
      "[2, 3]\n",
      "[4, 5]\n",
      "El número introdït supera el número de columnes disponibles\n",
      "null\n",
      "El número introdït supera el número de columnes disponibles\n",
      "null\n"
     ]
    }
   ],
   "source": [
    "int[][] matrix = {{0,1},{2,3},{4,5}};\n",
    "\n",
    "println(Arrays.toString(getColumn(matrix,0)));\n",
    "println(Arrays.toString(getColumn(matrix,1))); \n",
    "println(Arrays.toString(getColumn(matrix,2)));\n",
    "println(Arrays.toString(getColumn(matrix,-2)));\n",
    "println(Arrays.toString(getColumn(matrix,5)));"
   ]
  }
 ],
 "metadata": {
  "kernelspec": {
   "display_name": "Java 11",
   "language": "java",
   "name": "java"
  },
  "language_info": {
   "codemirror_mode": "java",
   "file_extension": ".jshell",
   "mimetype": "text/x-java-source",
   "name": "Java",
   "pygments_lexer": "java",
   "version": "11.0.13+8-Ubuntu-0ubuntu1.20.04"
  }
 },
 "nbformat": 4,
 "nbformat_minor": 5
}
